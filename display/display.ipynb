{
 "cells": [
  {
   "cell_type": "code",
   "execution_count": 50,
   "metadata": {
    "collapsed": true
   },
   "outputs": [],
   "source": [
    "import re\n",
    "import matplotlib.pyplot as plt  "
   ]
  },
  {
   "cell_type": "code",
   "execution_count": 17,
   "metadata": {
    "collapsed": true
   },
   "outputs": [],
   "source": [
    "def key_value(line):\n",
    "\n",
    "    matchObj = re.match( r'.*\\|\\s(.*)\\s+([\\d\\-\\.]+)', line, re.M|re.I)\n",
    "\n",
    "    if matchObj:\n",
    "        return matchObj.group(1).strip(), matchObj.group(2)\n",
    "        print( \"matchObj.group() : \", matchObj.group())\n",
    "        print( \"matchObj.group(1) : \", matchObj.group(1))\n",
    "        print( \"matchObj.group(2) : \", matchObj.group(2))\n",
    "    else:\n",
    "        print( \"No match!!\")"
   ]
  },
  {
   "cell_type": "code",
   "execution_count": 44,
   "metadata": {},
   "outputs": [],
   "source": [
    "file = open(\"../sql-data/swimmer-experiment/debug.log\") \n",
    "list_value = []\n",
    "count = 1\n",
    "for line in file:\n",
    "    pass # do something\n",
    "    key, val = key_value(line)\n",
    "    if key == \"----------------------\":\n",
    "        count = 0 if count else 1\n",
    "        \n",
    "        if not count:\n",
    "            dicti = {}\n",
    "        else:\n",
    "            list_value.append(dicti)\n",
    "        \n",
    "    else:\n",
    "        dicti[key] = val\n",
    "\n",
    "file.close()"
   ]
  },
  {
   "cell_type": "code",
   "execution_count": 47,
   "metadata": {},
   "outputs": [],
   "source": [
    "dict_list = list_value[0].copy()\n",
    "\n",
    "# convert to float list\n",
    "for key, val in dict_list.items():\n",
    "    dict_list[key] = [float( val )]\n",
    "    \n",
    "# fill the list one by one\n",
    "for i in range( len(list_value)-1 ):\n",
    "    j = i+1\n",
    "    for key, val in list_value[j].items():\n",
    "        dict_list[key].append( float( val ) )"
   ]
  },
  {
   "cell_type": "code",
   "execution_count": null,
   "metadata": {
    "collapsed": true
   },
   "outputs": [],
   "source": [
    "for key, val in dict_list.items():\n",
    "    plt.plot( val )\n",
    "    plt.title( key )\n",
    "    plt.show()"
   ]
  },
  {
   "cell_type": "code",
   "execution_count": null,
   "metadata": {
    "collapsed": true
   },
   "outputs": [],
   "source": []
  }
 ],
 "metadata": {
  "kernelspec": {
   "display_name": "Python 3",
   "language": "python",
   "name": "python3"
  },
  "language_info": {
   "codemirror_mode": {
    "name": "ipython",
    "version": 3
   },
   "file_extension": ".py",
   "mimetype": "text/x-python",
   "name": "python",
   "nbconvert_exporter": "python",
   "pygments_lexer": "ipython3",
   "version": "3.6.2"
  }
 },
 "nbformat": 4,
 "nbformat_minor": 2
}
